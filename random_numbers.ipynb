{
 "cells": [
  {
   "cell_type": "code",
   "execution_count": 1,
   "id": "b512969c",
   "metadata": {},
   "outputs": [],
   "source": [
    "# import random module\n",
    "\n",
    "import random"
   ]
  },
  {
   "cell_type": "code",
   "execution_count": 2,
   "id": "7534423b",
   "metadata": {},
   "outputs": [
    {
     "data": {
      "text/plain": [
       "11"
      ]
     },
     "execution_count": 2,
     "metadata": {},
     "output_type": "execute_result"
    }
   ],
   "source": [
    "random.randint(-90, 90)"
   ]
  },
  {
   "cell_type": "code",
   "execution_count": 5,
   "id": "3f54faff",
   "metadata": {},
   "outputs": [
    {
     "data": {
      "text/plain": [
       "0.030303202774170868"
      ]
     },
     "execution_count": 5,
     "metadata": {},
     "output_type": "execute_result"
    }
   ],
   "source": [
    "random.random()"
   ]
  },
  {
   "cell_type": "markdown",
   "id": "9b985f58",
   "metadata": {},
   "source": [
    "random_number = random.randint(-90,89) + random.random()\n",
    "random_number"
   ]
  },
  {
   "cell_type": "code",
   "execution_count": 8,
   "id": "203c67c1",
   "metadata": {},
   "outputs": [
    {
     "data": {
      "text/plain": [
       "[83.43016924794824,\n",
       " -67.18038514048281,\n",
       " 5.529642398810578,\n",
       " -45.863578718846746,\n",
       " 24.397424935165976,\n",
       " 22.176536784974193,\n",
       " 65.41295468505629,\n",
       " -15.971885726063661,\n",
       " 33.167293193506175,\n",
       " -56.07158268075437]"
      ]
     },
     "execution_count": 8,
     "metadata": {},
     "output_type": "execute_result"
    }
   ],
   "source": [
    "# get a series of random latitudes using randint / random functions and a while loop\n",
    "\n",
    "x = 1\n",
    "latitudes = []\n",
    "while x <11:\n",
    "    random_lat = random.randint(-90, 89)+random.random()\n",
    "    latitudes.append(random_lat)\n",
    "    x+=1\n",
    "latitudes"
   ]
  },
  {
   "cell_type": "code",
   "execution_count": 9,
   "id": "33ff1a57",
   "metadata": {},
   "outputs": [],
   "source": [
    "# import numPy module\n",
    "import numpy as np\n"
   ]
  },
  {
   "cell_type": "code",
   "execution_count": 12,
   "id": "c09069be",
   "metadata": {},
   "outputs": [
    {
     "data": {
      "text/plain": [
       "array([ 38.24683039, -18.80681244, -65.83759947,  -3.72014428,\n",
       "        -5.68707439, -14.17884043, -17.56629829,  25.96251044,\n",
       "        38.33725991, -72.60610981,  83.83406085,  -8.32077795,\n",
       "        71.24148702, -46.62329471,  64.12427906, -63.28341743,\n",
       "       -75.27883047, -27.26492783, -31.63293681, -35.89283882,\n",
       "        38.61953149, -67.36559976, -23.66444289,  16.07555178,\n",
       "       -15.74406105, -75.29225843,  72.4181964 , -28.11706032,\n",
       "        18.43813147, -88.86178919,  50.62221607, -41.76475879,\n",
       "        51.39413219, -49.40617645, -39.53394084,  -4.22214235,\n",
       "       -40.89460926, -60.03097845, -18.79187056, -13.35090957,\n",
       "        19.52841879,  73.75257943, -65.29428316,  22.49247256,\n",
       "       -87.74638234, -45.52576992, -17.55681208, -48.69210988,\n",
       "        -5.45218054, -16.44132964])"
      ]
     },
     "execution_count": 12,
     "metadata": {},
     "output_type": "execute_result"
    }
   ],
   "source": [
    "np.random.uniform(low=-90.000, high=90.000, size=50)"
   ]
  },
  {
   "cell_type": "code",
   "execution_count": 13,
   "id": "677a3c10",
   "metadata": {},
   "outputs": [],
   "source": [
    "# import timeit\n",
    "import timeit\n",
    "\n"
   ]
  },
  {
   "cell_type": "code",
   "execution_count": 16,
   "id": "7fbe49b3",
   "metadata": {},
   "outputs": [
    {
     "name": "stdout",
     "output_type": "stream",
     "text": [
      "32.4 µs ± 263 ns per loop (mean ± std. dev. of 7 runs, 10000 loops each)\n"
     ]
    }
   ],
   "source": [
    "%timeit np.random.uniform(-90.000, 90.000, size=1500)"
   ]
  },
  {
   "cell_type": "code",
   "execution_count": 17,
   "id": "60e63cd9",
   "metadata": {},
   "outputs": [
    {
     "name": "stdout",
     "output_type": "stream",
     "text": [
      "2.75 ms ± 33 µs per loop (mean ± std. dev. of 7 runs, 100 loops each)\n"
     ]
    }
   ],
   "source": [
    "def latitudes(size):\n",
    "    latitudes = []\n",
    "    x = 0\n",
    "    while x < (size):\n",
    "        random_lat = random.randint(-90, 90) + random.random()\n",
    "        latitudes.append(random_lat)\n",
    "        x += 1\n",
    "    return latitudes\n",
    "# Call the function with 1500.\n",
    "%timeit latitudes(1500)"
   ]
  },
  {
   "cell_type": "code",
   "execution_count": null,
   "id": "e6681391",
   "metadata": {},
   "outputs": [],
   "source": []
  }
 ],
 "metadata": {
  "kernelspec": {
   "display_name": "PythonData",
   "language": "python",
   "name": "pythondata"
  },
  "language_info": {
   "codemirror_mode": {
    "name": "ipython",
    "version": 3
   },
   "file_extension": ".py",
   "mimetype": "text/x-python",
   "name": "python",
   "nbconvert_exporter": "python",
   "pygments_lexer": "ipython3",
   "version": "3.10.0"
  }
 },
 "nbformat": 4,
 "nbformat_minor": 5
}
